{
  "nbformat": 4,
  "nbformat_minor": 0,
  "metadata": {
    "colab": {
      "provenance": []
    },
    "kernelspec": {
      "name": "python3",
      "display_name": "Python 3"
    },
    "language_info": {
      "name": "python"
    }
  },
  "cells": [
    {
      "cell_type": "markdown",
      "source": [
        "Understanding Confidence Intervals:\n",
        "\n",
        "A confidence interval estimates the range in which a population parameter (like the mean) is expected to fall, given a sample statistic.\n",
        "\n",
        "When the sample size is small and the population standard deviation is unknown, we use the t-distribution to estimate the confidence interval.\n",
        "\n",
        "When the population standard deviation is known, we can use the z-distribution to estimate the confidence interval.\n",
        "\n",
        "Scenario:\n",
        "\n",
        "We are tasked with constructing two different confidence intervals for the mean durability of print-heads:\n",
        "\n",
        "*Part a: Using the sample standard deviation and the t-distribution.\n",
        "\n",
        "*Part b: Using the known population standard deviation and the z-distribution.\n",
        "\n",
        "Step-by-Step Approach:\n",
        "\n",
        "1.Import the necessary libraries.\n",
        "\n",
        "2.Calculate the sample statistics (mean, sample standard deviation).\n",
        "\n",
        "3.Use the t-distribution to compute the confidence interval in part (a)\n",
        "\n",
        "4.Use the z-distribution to compute the confidence interval in part (b)."
      ],
      "metadata": {
        "id": "3J-rzAoKGD_8"
      }
    },
    {
      "cell_type": "code",
      "source": [
        "# Import necessary libraries\n",
        "import numpy as np\n",
        "import scipy.stats as stats\n"
      ],
      "metadata": {
        "id": "p96cQnhDL4aQ"
      },
      "execution_count": 1,
      "outputs": []
    },
    {
      "cell_type": "code",
      "source": [
        "# Data: Durability of print-heads (in millions of characters)\n",
        "data = np.array([1.13, 1.55, 1.43, 0.92, 1.25, 1.36, 1.32, 0.85, 1.07, 1.48, 1.20, 1.33, 1.18, 1.22, 1.29])"
      ],
      "metadata": {
        "id": "R3gDNgA6GFoA"
      },
      "execution_count": 9,
      "outputs": []
    },
    {
      "cell_type": "code",
      "source": [
        "# Step 1: Calculate the sample statistics\n",
        "sample_mean = np.mean(data)  # Sample mean\n",
        "sample_std = np.std(data, ddof=1)  # Sample standard deviation (using ddof=1 for sample)\n",
        "n = len(data)  # Sample size\n",
        "\n",
        "print(f\"Sample Mean: {sample_mean}\")\n",
        "print(f\"Sample Standard Deviation: {sample_std}\")\n",
        "print(f\"Sample Size: {n}\")"
      ],
      "metadata": {
        "colab": {
          "base_uri": "https://localhost:8080/"
        },
        "id": "e86E4LKPQ9QV",
        "outputId": "a4e8016f-5566-4049-b84d-38ec330d8578"
      },
      "execution_count": 3,
      "outputs": [
        {
          "output_type": "stream",
          "name": "stdout",
          "text": [
            "Sample Mean: 1.2386666666666666\n",
            "Sample Standard Deviation: 0.19316412956959936\n",
            "Sample Size: 15\n"
          ]
        }
      ]
    },
    {
      "cell_type": "code",
      "source": [
        "# Part a: 99% Confidence Interval Using Sample Standard Deviation (t-distribution)\n",
        "confidence_level = 0.99\n",
        "alpha = 1 - confidence_level\n",
        "df = n - 1  # Degrees of freedom for the t-distribution\n",
        "t_critical = stats.t.ppf(1 - alpha/2, df)  # t-critical value for 99% confidence\n",
        "\n",
        "# Margin of error for t-distribution\n",
        "margin_of_error_t = t_critical * (sample_std / np.sqrt(n))\n",
        "\n",
        "# Confidence interval using sample standard deviation\n",
        "ci_lower_t = sample_mean - margin_of_error_t\n",
        "ci_upper_t = sample_mean + margin_of_error_t\n",
        "\n",
        "print(\"\\n99% Confidence Interval using Sample Standard Deviation (t-distribution):\")\n",
        "print(f\"Lower bound: {ci_lower_t}\")\n",
        "print(f\"Upper bound: {ci_upper_t}\")\n"
      ],
      "metadata": {
        "colab": {
          "base_uri": "https://localhost:8080/"
        },
        "id": "JnjWze7nRFeH",
        "outputId": "ebc82730-dfa7-4aa6-c205-ea945b301917"
      },
      "execution_count": 6,
      "outputs": [
        {
          "output_type": "stream",
          "name": "stdout",
          "text": [
            "\n",
            "99% Confidence Interval using Sample Standard Deviation (t-distribution):\n",
            "Lower bound: 1.0901973384384906\n",
            "Upper bound: 1.3871359948948425\n"
          ]
        }
      ]
    },
    {
      "cell_type": "code",
      "source": [
        "# Part b: 99% Confidence Interval Using Known Population Standard Deviation (z-distribution)\n",
        "pop_std = 0.2  # Known population standard deviation\n",
        "z_critical = stats.norm.ppf(1 - alpha/2)  # z-critical value for 99% confidence\n"
      ],
      "metadata": {
        "id": "LPA2wjOWRier"
      },
      "execution_count": 7,
      "outputs": []
    },
    {
      "cell_type": "code",
      "source": [
        "# Margin of error for z-distribution\n",
        "margin_of_error_z = z_critical * (pop_std / np.sqrt(n))\n",
        "\n",
        "# Confidence interval using known population standard deviation\n",
        "ci_lower_z = sample_mean - margin_of_error_z\n",
        "ci_upper_z = sample_mean + margin_of_error_z\n",
        "\n",
        "print(\"\\n99% Confidence Interval using Known Population Standard Deviation (z-distribution):\")\n",
        "print(f\"Lower bound: {ci_lower_z}\")\n",
        "print(f\"Upper bound: {ci_upper_z}\")"
      ],
      "metadata": {
        "colab": {
          "base_uri": "https://localhost:8080/"
        },
        "id": "TFAqXi9HR5Ac",
        "outputId": "64fca7ba-d32c-4bcb-d0ac-59f66306cbd5"
      },
      "execution_count": 8,
      "outputs": [
        {
          "output_type": "stream",
          "name": "stdout",
          "text": [
            "\n",
            "99% Confidence Interval using Known Population Standard Deviation (z-distribution):\n",
            "Lower bound: 1.1056514133957607\n",
            "Upper bound: 1.3716819199375725\n"
          ]
        }
      ]
    },
    {
      "cell_type": "markdown",
      "source": [
        "Explanation of the Code:\n",
        "\n",
        "*numpy is used for basic numerical operations.\n",
        "\n",
        "*scipy.stats is used to compute critical values for the t-distribution and z-distribution.\n",
        "\n",
        "Sample Statistics:\n",
        "\n",
        "We calculate the sample mean (np.mean(data)) and the sample standard deviation (np.std(data, ddof=1)), where ddof=1 ensures we use the sample formula.\n",
        "\n",
        "Part a (Using the t-distribution):\n",
        "\n",
        "Since the sample size is small and the population standard deviation is unknown, we use the t-distribution.\n",
        "\n",
        "We calculate the degrees of freedom (df = n - 1) and the t-critical value using stats.t.ppf() for a 99% confidence level.\n",
        "\n",
        "Part b (Using the z-distribution):\n",
        "\n",
        "When the population standard deviation is known, we use the z-distribution.\n",
        "\n",
        "We compute the z-critical value using stats.norm.ppf() for a 99% confidence level.\n",
        "\n",
        "Output:\n",
        "\n",
        "The code prints the 99% confidence interval for both cases (using the sample standard deviation and using the known population standard deviation).\n",
        "\n",
        "Sample OutPut:\n",
        "\n",
        "Sample Mean: 1.2386666666666666\n",
        "\n",
        "Sample Standard Deviation: 0.19316412956959936\n",
        "\n",
        "Sample Size: 15\n",
        "\n",
        "\n",
        "99% Confidence Interval using Sample Standard Deviation (t-distribution:\n",
        "\n",
        "Lower bound: 1.0901973384384906\n",
        "\n",
        "Upper bound: 1.3871359948948425\n",
        "\n",
        "99% Confidence Interval using Known Population Standard Deviation (z-distribution):\n",
        "\n",
        "Lower bound: 1.1056514133957607\n",
        "\n",
        "Upper bound: 1.3716819199375725"
      ],
      "metadata": {
        "id": "7S9dPW9MS5ww"
      }
    }
  ]
}