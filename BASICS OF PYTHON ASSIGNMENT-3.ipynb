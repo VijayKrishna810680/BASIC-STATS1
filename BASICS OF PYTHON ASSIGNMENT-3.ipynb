{
  "nbformat": 4,
  "nbformat_minor": 0,
  "metadata": {
    "colab": {
      "provenance": []
    },
    "kernelspec": {
      "name": "python3",
      "display_name": "Python 3"
    },
    "language_info": {
      "name": "python"
    }
  },
  "cells": [
    {
      "cell_type": "code",
      "execution_count": 1,
      "metadata": {
        "colab": {
          "base_uri": "https://localhost:8080/"
        },
        "id": "RLzInr0NZlGU",
        "outputId": "79aec4f8-5da7-4ee1-a2d1-2474596ab19b"
      },
      "outputs": [
        {
          "output_type": "stream",
          "name": "stdout",
          "text": [
            "Exercise 1: Prime Numbers\n",
            "Is 29 a prime number? True\n"
          ]
        }
      ],
      "source": [
        "# Exercise 1: Prime Numbers\n",
        "\n",
        "def is_prime(number):\n",
        "    \"\"\"\n",
        "    This function checks if a given number is prime or not.\n",
        "    A prime number is greater than 1 and divisible only by 1 and itself.\n",
        "    \"\"\"\n",
        "    if number <= 1:\n",
        "        return False  # Numbers less than or equal to 1 are not prime\n",
        "    for i in range(2, int(number**0.5) + 1):  # Check divisibility up to sqrt(number)\n",
        "        if number % i == 0:\n",
        "            return False  # Number is divisible by a number other than 1 and itself\n",
        "    return True  # Number is prime\n",
        "\n",
        "# Test the is_prime function\n",
        "print(\"Exercise 1: Prime Numbers\")\n",
        "test_number = 29\n",
        "print(f\"Is {test_number} a prime number? {is_prime(test_number)}\")\n"
      ]
    },
    {
      "cell_type": "code",
      "source": [
        "# Exercise 2: Product of Random Numbers\n",
        "\n",
        "import random\n",
        "\n",
        "def product_of_random_numbers():\n",
        "    \"\"\"\n",
        "    This function generates two random numbers, asks the user for their product,\n",
        "    and checks if the user's answer is correct.\n",
        "    \"\"\"\n",
        "    num1 = random.randint(1, 10)\n",
        "    num2 = random.randint(1, 10)\n",
        "\n",
        "    print(f\"\\nExercise 2: Product of Random Numbers\")\n",
        "    print(f\"Random numbers: {num1} and {num2}\")\n",
        "\n",
        "    user_answer = int(input(f\"What is the product of {num1} and {num2}? \"))\n",
        "    correct_answer = num1 * num2\n",
        "\n",
        "    if user_answer == correct_answer:\n",
        "        print(\"Correct! Well done.\")\n",
        "    else:\n",
        "        print(f\"Incorrect. The correct answer is {correct_answer}.\")\n",
        "\n",
        "# Run the product_of_random_numbers function\n",
        "product_of_random_numbers()"
      ],
      "metadata": {
        "colab": {
          "base_uri": "https://localhost:8080/"
        },
        "id": "NCKYONLHaMdN",
        "outputId": "3f993db8-2048-4141-9b4b-d8b6473cf37d"
      },
      "execution_count": 2,
      "outputs": [
        {
          "output_type": "stream",
          "name": "stdout",
          "text": [
            "\n",
            "Exercise 2: Product of Random Numbers\n",
            "Random numbers: 9 and 7\n",
            "What is the product of 9 and 7? 63\n",
            "Correct! Well done.\n"
          ]
        }
      ]
    },
    {
      "cell_type": "code",
      "source": [
        "# Exercise 3: Squares of Even/Odd Numbers\n",
        "\n",
        "def squares_of_even_numbers():\n",
        "    \"\"\"\n",
        "    This function prints the squares of even numbers between 100 and 200.\n",
        "    \"\"\"\n",
        "    print(\"\\nExercise 3: Squares of Even Numbers from 100 to 200\")\n",
        "    for num in range(100, 201):\n",
        "        if num % 2 == 0:\n",
        "            print(f\"{num}^2 = {num**2}\")\n",
        "\n",
        "# Call the function for squares of even numbers\n",
        "squares_of_even_numbers()"
      ],
      "metadata": {
        "colab": {
          "base_uri": "https://localhost:8080/"
        },
        "id": "hdqTKeDga4e8",
        "outputId": "a671047f-e537-4ea6-b1c4-f8313279d042"
      },
      "execution_count": 3,
      "outputs": [
        {
          "output_type": "stream",
          "name": "stdout",
          "text": [
            "\n",
            "Exercise 3: Squares of Even Numbers from 100 to 200\n",
            "100^2 = 10000\n",
            "102^2 = 10404\n",
            "104^2 = 10816\n",
            "106^2 = 11236\n",
            "108^2 = 11664\n",
            "110^2 = 12100\n",
            "112^2 = 12544\n",
            "114^2 = 12996\n",
            "116^2 = 13456\n",
            "118^2 = 13924\n",
            "120^2 = 14400\n",
            "122^2 = 14884\n",
            "124^2 = 15376\n",
            "126^2 = 15876\n",
            "128^2 = 16384\n",
            "130^2 = 16900\n",
            "132^2 = 17424\n",
            "134^2 = 17956\n",
            "136^2 = 18496\n",
            "138^2 = 19044\n",
            "140^2 = 19600\n",
            "142^2 = 20164\n",
            "144^2 = 20736\n",
            "146^2 = 21316\n",
            "148^2 = 21904\n",
            "150^2 = 22500\n",
            "152^2 = 23104\n",
            "154^2 = 23716\n",
            "156^2 = 24336\n",
            "158^2 = 24964\n",
            "160^2 = 25600\n",
            "162^2 = 26244\n",
            "164^2 = 26896\n",
            "166^2 = 27556\n",
            "168^2 = 28224\n",
            "170^2 = 28900\n",
            "172^2 = 29584\n",
            "174^2 = 30276\n",
            "176^2 = 30976\n",
            "178^2 = 31684\n",
            "180^2 = 32400\n",
            "182^2 = 33124\n",
            "184^2 = 33856\n",
            "186^2 = 34596\n",
            "188^2 = 35344\n",
            "190^2 = 36100\n",
            "192^2 = 36864\n",
            "194^2 = 37636\n",
            "196^2 = 38416\n",
            "198^2 = 39204\n",
            "200^2 = 40000\n"
          ]
        }
      ]
    },
    {
      "cell_type": "code",
      "source": [
        "# Exercise 4: Word Counter\n",
        "\n",
        "def word_counter(input_text):\n",
        "    \"\"\"\n",
        "    This function counts the occurrences of each word in a given text.\n",
        "    \"\"\"\n",
        "    words = input_text.split()  # Split the text into words\n",
        "    word_count = {}\n",
        "\n",
        "    for word in words:\n",
        "        word = word.lower()  # Convert to lowercase to make the count case-insensitive\n",
        "        if word not in word_count:\n",
        "            word_count[word] = 1\n",
        "        else:\n",
        "            word_count[word] += 1\n",
        "\n",
        "    print(\"\\nExercise 4: Word Counter\")\n",
        "    for word, count in word_count.items():\n",
        "        print(f\"'{word}': {count}\")\n",
        "\n",
        "# Test the word_counter function\n",
        "input_text = \"This is a sample text. This text will be used to demonstrate the word counter.\"\n",
        "word_counter(input_text)"
      ],
      "metadata": {
        "colab": {
          "base_uri": "https://localhost:8080/"
        },
        "id": "-ZhCKqGZa7qk",
        "outputId": "d36a92fd-f314-4642-b44f-70ae1c139614"
      },
      "execution_count": 4,
      "outputs": [
        {
          "output_type": "stream",
          "name": "stdout",
          "text": [
            "\n",
            "Exercise 4: Word Counter\n",
            "'this': 2\n",
            "'is': 1\n",
            "'a': 1\n",
            "'sample': 1\n",
            "'text.': 1\n",
            "'text': 1\n",
            "'will': 1\n",
            "'be': 1\n",
            "'used': 1\n",
            "'to': 1\n",
            "'demonstrate': 1\n",
            "'the': 1\n",
            "'word': 1\n",
            "'counter.': 1\n"
          ]
        }
      ]
    },
    {
      "cell_type": "code",
      "source": [
        "# Exercise 5: Check for Palindrome\n",
        "\n",
        "def is_palindrome(input_string):\n",
        "    \"\"\"\n",
        "    This function checks if a given string is a palindrome.\n",
        "    A palindrome reads the same forward and backward, ignoring spaces, punctuation, and capitalization.\n",
        "    \"\"\"\n",
        "    # Remove non-alphanumeric characters and convert to lowercase\n",
        "    cleaned_string = ''.join(char.lower() for char in input_string if char.isalnum())\n",
        "    # Check if the cleaned string is the same forward and backward\n",
        "    return cleaned_string == cleaned_string[::-1]\n",
        "\n",
        "# Test the is_palindrome function\n",
        "test_string = \"A man a plan a canal Panama\"\n",
        "print(\"\\nExercise 5: Palindrome Check\")\n",
        "print(f\"Is '{test_string}' a palindrome? {is_palindrome(test_string)}\")"
      ],
      "metadata": {
        "colab": {
          "base_uri": "https://localhost:8080/"
        },
        "id": "AP_xmXHMbE9-",
        "outputId": "fae65eb8-b90e-47aa-e1e3-d942c557ac35"
      },
      "execution_count": 5,
      "outputs": [
        {
          "output_type": "stream",
          "name": "stdout",
          "text": [
            "\n",
            "Exercise 5: Palindrome Check\n",
            "Is 'A man a plan a canal Panama' a palindrome? True\n"
          ]
        }
      ]
    },
    {
      "cell_type": "markdown",
      "source": [
        "Explanation and Walkthrough:\n",
        "\n",
        "Exercise 1: Prime Numbers\n",
        "\n",
        "Function: is_prime()\n",
        "\n",
        "Logic: This function checks whether a number is prime by checking divisibility from 2 up to the square root of the number. If any number divides evenly, the number is not prime.\n",
        "\n",
        "Exercise 2: Product of Random Numbers\n",
        "\n",
        "Function: product_of_random_numbers()\n",
        "\n",
        "Logic: This function generates two random numbers using random.randint(), prompts the user for the product, and then checks whether the user’s input matches the correct product. It gives appropriate feedback based on the answer.\n",
        "\n",
        "Exercise 4: Word Counter\n",
        "\n",
        "Function: word_counter()\n",
        "\n",
        "Logic: The function splits the input text into individual words, counts the occurrences of each word (case-insensitive), and displays the results. The text is converted to lowercase, and the occurrences are\n",
        "stored in a dictionary for counting.\n",
        "\n",
        "Exercise 5: Check for Palindrome\n",
        "\n",
        "Function: is_palindrome()\n",
        "\n",
        "Logic: This function first removes any non-alphanumeric characters from the input string and converts it to lowercase. It then checks whether the string reads the same forward and backward by comparing the string with its reverse ([::-1] slicing).\n",
        "\n",
        "Key Takeaways:\n",
        "\n",
        "Exercise 1 uses basic number theory to check for primality.\n",
        "\n",
        "Exercise 2 tests basic user interaction with random number generation and checking correctness.\n",
        "\n",
        "Exercise 3 generates the squares of even numbers within a specified range.\n",
        "\n",
        "Exercise 4 demonstrates string manipulation and word counting.\n",
        "\n",
        "Exercise 5 showcases string normalization and checks for palindromes by comparing the string to its reverse."
      ],
      "metadata": {
        "id": "9b9qo9cLbuGp"
      }
    }
  ]
}