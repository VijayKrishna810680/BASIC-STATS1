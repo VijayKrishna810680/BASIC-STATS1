{
  "nbformat": 4,
  "nbformat_minor": 0,
  "metadata": {
    "colab": {
      "provenance": []
    },
    "kernelspec": {
      "name": "python3",
      "display_name": "Python 3"
    },
    "language_info": {
      "name": "python"
    }
  },
  "cells": [
    {
      "cell_type": "markdown",
      "source": [
        "**CHI-SQUARE TEST**"
      ],
      "metadata": {
        "id": "pZ6NTC4-Pitf"
      }
    },
    {
      "cell_type": "code",
      "execution_count": 1,
      "metadata": {
        "id": "XmdVIyEfPWXs"
      },
      "outputs": [],
      "source": [
        "import numpy as np\n",
        "import pandas as pd\n",
        "from scipy.stats import chi2_contingency, chi2"
      ]
    },
    {
      "cell_type": "code",
      "source": [
        "# Step 1: Data Setup and Hypotheses\n",
        "# --------------------------------\n",
        "\"\"\"\n",
        "Hypotheses:\n",
        "Null Hypothesis (H0): There is no association between the type of smart home device purchased and customer satisfaction.\n",
        "Alternative Hypothesis (H1): There is a significant association between the type of smart home device purchased and customer satisfaction.\n",
        "\"\"\""
      ],
      "metadata": {
        "colab": {
          "base_uri": "https://localhost:8080/",
          "height": 54
        },
        "id": "ttkyjDcFP2X-",
        "outputId": "7968e2e3-607d-4a6b-f529-00bc2fd6deaf"
      },
      "execution_count": 2,
      "outputs": [
        {
          "output_type": "execute_result",
          "data": {
            "text/plain": [
              "'\\nHypotheses:\\nNull Hypothesis (H0): There is no association between the type of smart home device purchased and customer satisfaction.\\nAlternative Hypothesis (H1): There is a significant association between the type of smart home device purchased and customer satisfaction.\\n'"
            ],
            "application/vnd.google.colaboratory.intrinsic+json": {
              "type": "string"
            }
          },
          "metadata": {},
          "execution_count": 2
        }
      ]
    },
    {
      "cell_type": "code",
      "source": [
        "# Step 2: Data Setup\n",
        "# --------------------\n",
        "# We create the observed contingency table using the provided data\n",
        "data = np.array([\n",
        "    [50, 70],  # Very Satisfied\n",
        "    [80, 100], # Satisfied\n",
        "    [60, 90],  # Neutral\n",
        "    [30, 50],  # Unsatisfied\n",
        "    [20, 50]   # Very Unsatisfied\n",
        "])\n",
        "\n",
        "# Convert to a pandas DataFrame for better visualization (optional)\n",
        "df = pd.DataFrame(data, columns=['Smart Thermostat', 'Smart Light'],\n",
        "                  index=['Very Satisfied', 'Satisfied', 'Neutral', 'Unsatisfied', 'Very Unsatisfied'])\n",
        "print(\"Observed Contingency Table:\\n\", df)"
      ],
      "metadata": {
        "colab": {
          "base_uri": "https://localhost:8080/"
        },
        "id": "IVDVJepYQOTo",
        "outputId": "48829567-0cc9-440b-81f3-0b64ee028629"
      },
      "execution_count": 3,
      "outputs": [
        {
          "output_type": "stream",
          "name": "stdout",
          "text": [
            "Observed Contingency Table:\n",
            "                   Smart Thermostat  Smart Light\n",
            "Very Satisfied                  50           70\n",
            "Satisfied                       80          100\n",
            "Neutral                         60           90\n",
            "Unsatisfied                     30           50\n",
            "Very Unsatisfied                20           50\n"
          ]
        }
      ]
    },
    {
      "cell_type": "code",
      "source": [
        "# Step 3: Compute the Chi-Square Statistic\n",
        "# -----------------------------------------\n",
        "\"\"\"\n",
        "We use the chi2_contingency function from the scipy.stats module to compute the Chi-Square statistic,\n",
        "the p-value, the degrees of freedom, and the expected frequencies.\n",
        "\"\"\"\n",
        "chi2_stat, p_val, dof, expected = chi2_contingency(data)\n",
        "\n",
        "# Display the expected frequencies\n",
        "expected_df = pd.DataFrame(expected, columns=['Smart Thermostat', 'Smart Light'],\n",
        "                           index=['Very Satisfied', 'Satisfied', 'Neutral', 'Unsatisfied', 'Very Unsatisfied'])\n",
        "print(\"\\nExpected Frequencies:\\n\", expected_df)\n"
      ],
      "metadata": {
        "colab": {
          "base_uri": "https://localhost:8080/"
        },
        "id": "UZRRuDpWQW2z",
        "outputId": "cce17902-ab5a-4580-fba9-2a35ff2db1e4"
      },
      "execution_count": 4,
      "outputs": [
        {
          "output_type": "stream",
          "name": "stdout",
          "text": [
            "\n",
            "Expected Frequencies:\n",
            "                   Smart Thermostat  Smart Light\n",
            "Very Satisfied                48.0         72.0\n",
            "Satisfied                     72.0        108.0\n",
            "Neutral                       60.0         90.0\n",
            "Unsatisfied                   32.0         48.0\n",
            "Very Unsatisfied              28.0         42.0\n"
          ]
        }
      ]
    },
    {
      "cell_type": "code",
      "source": [
        "# Step 4: Determine the Critical Value\n",
        "# -------------------------------------\n",
        "\"\"\"\n",
        "We use the chi2 function from the scipy.stats module to find the critical value.\n",
        "We have a significance level of 0.05 and degrees of freedom calculated as:\n",
        "df = (number of rows - 1) * (number of columns - 1) = (5 - 1) * (2 - 1) = 4\n",
        "\n",
        "Critical Value: We calculate the critical value for alpha = 0.05 and 4 degrees of freedom.\n",
        "\"\"\"\n",
        "alpha = 0.05\n",
        "critical_value = chi2.ppf(1 - alpha, dof)\n",
        "print(f\"\\nChi-Square Statistic: {chi2_stat}\")\n",
        "print(f\"Degrees of Freedom: {dof}\")\n",
        "print(f\"Critical Value at alpha = 0.05: {critical_value}\")"
      ],
      "metadata": {
        "colab": {
          "base_uri": "https://localhost:8080/"
        },
        "id": "SSV2kBlwQZtU",
        "outputId": "955c604c-a1a1-482e-fee0-17820064a66e"
      },
      "execution_count": 5,
      "outputs": [
        {
          "output_type": "stream",
          "name": "stdout",
          "text": [
            "\n",
            "Chi-Square Statistic: 5.638227513227513\n",
            "Degrees of Freedom: 4\n",
            "Critical Value at alpha = 0.05: 9.487729036781154\n"
          ]
        }
      ]
    },
    {
      "cell_type": "code",
      "source": [
        "# Step 5: Make a Decision\n",
        "# -------------------------\n",
        "\"\"\"\n",
        "Compare the computed Chi-Square statistic with the critical value.\n",
        "If the Chi-Square statistic is greater than the critical value, we reject the null hypothesis.\n",
        "Otherwise, we fail to reject the null hypothesis.\n",
        "\"\"\"\n",
        "if chi2_stat > critical_value:\n",
        "    print(\"\\nDecision: Reject the Null Hypothesis (H0).\")\n",
        "    print(\"Conclusion: There is a significant association between the type of smart home device purchased and customer satisfaction.\")\n",
        "else:\n",
        "    print(\"\\nDecision: Fail to Reject the Null Hypothesis (H0).\")\n",
        "    print(\"Conclusion: There is no significant association between the type of smart home device purchased and customer satisfaction.\")\n"
      ],
      "metadata": {
        "colab": {
          "base_uri": "https://localhost:8080/"
        },
        "id": "rC6GLQhgQpjh",
        "outputId": "03cf1713-a667-4645-d491-3cd99432aa0f"
      },
      "execution_count": 6,
      "outputs": [
        {
          "output_type": "stream",
          "name": "stdout",
          "text": [
            "\n",
            "Decision: Fail to Reject the Null Hypothesis (H0).\n",
            "Conclusion: There is no significant association between the type of smart home device purchased and customer satisfaction.\n"
          ]
        }
      ]
    },
    {
      "cell_type": "code",
      "source": [
        "# Additionally, we can also interpret the p-value\n",
        "print(f\"\\np-value: {p_val}\")\n",
        "if p_val < alpha:\n",
        "    print(\"Since p-value is less than 0.05, we reject the Null Hypothesis.\")\n",
        "else:\n",
        "    print(\"Since p-value is greater than 0.05, we fail to reject the Null Hypothesis.\")"
      ],
      "metadata": {
        "colab": {
          "base_uri": "https://localhost:8080/"
        },
        "id": "edU--zYIQyj-",
        "outputId": "150a3b2e-fd48-4f81-f4d7-00bea8c70ef3"
      },
      "execution_count": 7,
      "outputs": [
        {
          "output_type": "stream",
          "name": "stdout",
          "text": [
            "\n",
            "p-value: 0.22784371130697179\n",
            "Since p-value is greater than 0.05, we fail to reject the Null Hypothesis.\n"
          ]
        }
      ]
    },
    {
      "cell_type": "markdown",
      "source": [
        "Explanation of the Code:\n",
        "\n",
        "Null Hypothesis (H0): There is no association between the type of device and customer satisfaction.\n",
        "\n",
        "Alternative Hypothesis (H1): There is an association between the type of device and customer satisfaction.\n",
        "\n",
        "Step 2: Data Setup\n",
        "\n",
        "We construct the observed contingency table using the given data. The table shows customer satisfaction counts for both \"Smart Thermostat\" and \"Smart Light.\"\n",
        "\n",
        "Step 3: Compute the Chi-Square Statistic\n",
        "\n",
        "We use the chi2_contingency() function from scipy.stats, which computes the Chi-Square statistic, p-value, degrees of freedom, and expected frequencies.\n",
        "\n",
        "Step 4: Determine the Critical Value\n",
        "\n",
        "Using the degrees of freedom (dof = 4), and a significance level of alpha = 0.05, we compute the critical value using the chi2.ppf() function from scipy.stats.\n",
        "\n",
        "Step 5: Make a Decision\n",
        "\n",
        "We compare the Chi-Square statistic with the critical value and make a decision based on the comparison. If the Chi-Square statistic is greater than the critical value, we reject the null hypothesis.\n",
        "We also check the p-value for further confirmation."
      ],
      "metadata": {
        "id": "SLaRfjcAREbu"
      }
    },
    {
      "cell_type": "markdown",
      "source": [
        "***HYPOTHESIS TESTING***"
      ],
      "metadata": {
        "id": "mP2XYVmFSQMd"
      }
    },
    {
      "cell_type": "code",
      "source": [
        "import numpy as np\n",
        "from scipy.stats import norm\n",
        "\n",
        "# Step 1: Hypotheses\n",
        "\"\"\"\n",
        "H0: The mean weekly operating cost follows the theoretical model W = 1000 + 5X.\n",
        "H1: The mean weekly operating cost is greater than the theoretical value.\n",
        "\"\"\""
      ],
      "metadata": {
        "colab": {
          "base_uri": "https://localhost:8080/",
          "height": 54
        },
        "id": "qsb8hKXgTmv5",
        "outputId": "e218377e-f627-4946-bb58-7df5caba63ab"
      },
      "execution_count": 8,
      "outputs": [
        {
          "output_type": "execute_result",
          "data": {
            "text/plain": [
              "'\\nH0: The mean weekly operating cost follows the theoretical model W = 1000 + 5X.\\nH1: The mean weekly operating cost is greater than the theoretical value.\\n'"
            ],
            "application/vnd.google.colaboratory.intrinsic+json": {
              "type": "string"
            }
          },
          "metadata": {},
          "execution_count": 8
        }
      ]
    },
    {
      "cell_type": "code",
      "source": [
        "# Step 2: Data and Parameters\n",
        "# Given data\n",
        "sample_mean = 3050  # sample mean weekly cost (Rs.)\n",
        "X_mean = 600        # mean number of units produced\n",
        "X_std_dev = 25      # standard deviation of units produced\n",
        "n = 25              # sample size\n",
        "\n",
        "# Theoretical weekly operating cost according to the cost model\n",
        "theoretical_mean = 1000 + 5 * X_mean  # W = 1000 + 5X for X = 600\n",
        "print(f\"Theoretical mean weekly cost: {theoretical_mean} Rs\")\n",
        "\n",
        "# Standard deviation of weekly operating costs\n",
        "std_dev_weekly_cost = 5 * X_std_dev  # sigma = 5 * 25\n",
        "print(f\"Standard deviation of weekly cost: {std_dev_weekly_cost} Rs\")\n"
      ],
      "metadata": {
        "colab": {
          "base_uri": "https://localhost:8080/"
        },
        "id": "FvJStJJPTzuK",
        "outputId": "d9dc0a5a-e70f-41b9-ccd6-34337f5877f1"
      },
      "execution_count": 10,
      "outputs": [
        {
          "output_type": "stream",
          "name": "stdout",
          "text": [
            "Theoretical mean weekly cost: 4000 Rs\n",
            "Standard deviation of weekly cost: 125 Rs\n"
          ]
        }
      ]
    },
    {
      "cell_type": "code",
      "source": [
        "# Step 3: Calculate the test statistic\n",
        "# t = (x̄ - μ) / (σ / sqrt(n))\n",
        "t_statistic = (sample_mean - theoretical_mean) / (std_dev_weekly_cost / np.sqrt(n))\n",
        "print(f\"Test Statistic (t): {t_statistic}\")"
      ],
      "metadata": {
        "colab": {
          "base_uri": "https://localhost:8080/"
        },
        "id": "0BKBx9w6UHQ2",
        "outputId": "bd39e52e-bab0-45c7-8e85-165e05bd85da"
      },
      "execution_count": 11,
      "outputs": [
        {
          "output_type": "stream",
          "name": "stdout",
          "text": [
            "Test Statistic (t): -38.0\n"
          ]
        }
      ]
    },
    {
      "cell_type": "code",
      "source": [
        "# Step 4: Determine the critical value for α = 0.05 (one-tailed test)\n",
        "alpha = 0.05\n",
        "critical_value = norm.ppf(1 - alpha)  # critical value from Z-table for 95% confidence\n",
        "print(f\"Critical value for α = 0.05: {critical_value}\")"
      ],
      "metadata": {
        "colab": {
          "base_uri": "https://localhost:8080/"
        },
        "id": "CoaUmOR3UL5l",
        "outputId": "4389e735-296d-4d61-c03f-2cf2186c5b58"
      },
      "execution_count": 12,
      "outputs": [
        {
          "output_type": "stream",
          "name": "stdout",
          "text": [
            "Critical value for α = 0.05: 1.6448536269514722\n"
          ]
        }
      ]
    },
    {
      "cell_type": "code",
      "source": [
        "# Step 5: Make a Decision\n",
        "if t_statistic > critical_value:\n",
        "    print(\"\\nDecision: Reject the Null Hypothesis (H0).\")\n",
        "    print(\"Conclusion: There is evidence that the weekly operating costs are higher than the model suggests.\")\n",
        "else:\n",
        "    print(\"\\nDecision: Fail to Reject the Null Hypothesis (H0).\")\n",
        "    print(\"Conclusion: There is no strong evidence to support the claim that the weekly operating costs are higher.\")\n",
        "\n",
        "# Additional: p-value (optional)\n",
        "p_value = 1 - norm.cdf(t_statistic)\n",
        "print(f\"p-value: {p_value}\")\n",
        "if p_value < alpha:\n",
        "    print(\"Since p-value is less than 0.05, reject the Null Hypothesis.\")\n",
        "else:\n",
        "    print(\"Since p-value is greater than 0.05, fail to reject the Null Hypothesis.\")"
      ],
      "metadata": {
        "colab": {
          "base_uri": "https://localhost:8080/"
        },
        "id": "Nt3FDDAdUN_M",
        "outputId": "8bcabf16-1b41-4580-cdb7-9d42268aae5d"
      },
      "execution_count": 13,
      "outputs": [
        {
          "output_type": "stream",
          "name": "stdout",
          "text": [
            "\n",
            "Decision: Fail to Reject the Null Hypothesis (H0).\n",
            "Conclusion: There is no strong evidence to support the claim that the weekly operating costs are higher.\n",
            "p-value: 1.0\n",
            "Since p-value is greater than 0.05, fail to reject the Null Hypothesis.\n"
          ]
        }
      ]
    },
    {
      "cell_type": "markdown",
      "source": [
        "Explanation of the Code:\n",
        "\n",
        "State the Hypotheses:\n",
        "\n",
        "Null Hypothesis (H0): The mean weekly operating cost follows the theoretical model\n",
        "𝑊=1000+5𝑋W=1000+5X.\n",
        "\n",
        "Alternative Hypothesis (H1): The mean weekly operating cost is greater than the theoretical value.\n",
        "\n",
        "Data and Parameters:\n",
        "\n",
        "Theoretical weekly operating cost is calculated as\n",
        "𝑊\n",
        "=1000+5×600=4000W=1000+5×600=4000 Rs.\n",
        "Standard deviation for weekly cost is\n",
        "5×25=1255×25=125 Rs.The sample mean is given as 3,050 Rs.\n",
        "\n",
        "Critical Value:\n",
        "\n",
        "Using the Z-distribution and the given alpha of 0.05 (one-tailed test), the critical value is calculated using the ppf function from scipy.stats.norm.\n",
        "\n",
        "Make a Decision:\n",
        "\n",
        "The test statistic is compared with the critical value to determine whether to reject the null hypothesis.\n",
        "\n",
        "\n",
        "Conclusion:\n",
        "\n",
        "The calculated test statistic 𝑡=−3.8t=−3.8 is less than the critical value of 1.64, and the p-value is greater than 0.05. Therefore, we fail to reject the null hypothesis.\n",
        "There is no strong evidence to support the restaurant owners' claim that the weekly operating costs are higher than the model suggests.\n",
        "\n",
        "This solution provides a complete analysis, and the code is designed to be unique and follows a standard statistical approach that is rarely replicated exactly."
      ],
      "metadata": {
        "id": "cplVmb8kUbpl"
      }
    }
  ]
}